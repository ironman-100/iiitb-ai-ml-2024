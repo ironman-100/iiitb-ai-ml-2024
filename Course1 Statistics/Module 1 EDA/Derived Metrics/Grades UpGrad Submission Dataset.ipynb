{
 "cells": [
  {
   "cell_type": "code",
   "execution_count": 1,
   "id": "2cc3742c",
   "metadata": {},
   "outputs": [],
   "source": [
    "import pandas as pd\n",
    "import numpy as np\n",
    "import seaborn as sns\n",
    "import matplotlib.pyplot as plt"
   ]
  },
  {
   "cell_type": "code",
   "execution_count": 16,
   "id": "c146a5fb",
   "metadata": {},
   "outputs": [],
   "source": [
    "df=pd.read_csv('grades.csv')"
   ]
  },
  {
   "cell_type": "code",
   "execution_count": 17,
   "id": "94b66f19",
   "metadata": {},
   "outputs": [
    {
     "data": {
      "text/html": [
       "<div>\n",
       "<style scoped>\n",
       "    .dataframe tbody tr th:only-of-type {\n",
       "        vertical-align: middle;\n",
       "    }\n",
       "\n",
       "    .dataframe tbody tr th {\n",
       "        vertical-align: top;\n",
       "    }\n",
       "\n",
       "    .dataframe thead th {\n",
       "        text-align: right;\n",
       "    }\n",
       "</style>\n",
       "<table border=\"1\" class=\"dataframe\">\n",
       "  <thead>\n",
       "    <tr style=\"text-align: right;\">\n",
       "      <th></th>\n",
       "      <th>submission</th>\n",
       "      <th>submit_time</th>\n",
       "    </tr>\n",
       "  </thead>\n",
       "  <tbody>\n",
       "    <tr>\n",
       "      <th>0</th>\n",
       "      <td>https://ckd.upgrad.com/UpGrad/73ba5189-94fd-44...</td>\n",
       "      <td>01/03/17-20:28:52</td>\n",
       "    </tr>\n",
       "    <tr>\n",
       "      <th>1</th>\n",
       "      <td>https://ckd.upgrad.com/UpGrad/185242ff-7508-4c...</td>\n",
       "      <td>01/03/17-20:18:21</td>\n",
       "    </tr>\n",
       "    <tr>\n",
       "      <th>2</th>\n",
       "      <td>https://ckd.upgrad.com/UpGrad/a353d129-c100-43...</td>\n",
       "      <td>01/03/17-22:37:08</td>\n",
       "    </tr>\n",
       "    <tr>\n",
       "      <th>3</th>\n",
       "      <td>https://ckd.upgrad.com/UpGrad/002fc912-faa1-49...</td>\n",
       "      <td>01/02/17-21:43:19</td>\n",
       "    </tr>\n",
       "    <tr>\n",
       "      <th>4</th>\n",
       "      <td>https://ckd.upgrad.com/UpGrad/25cbc4a4-6d49-4f...</td>\n",
       "      <td>01/03/17-15:27:49</td>\n",
       "    </tr>\n",
       "  </tbody>\n",
       "</table>\n",
       "</div>"
      ],
      "text/plain": [
       "                                          submission        submit_time\n",
       "0  https://ckd.upgrad.com/UpGrad/73ba5189-94fd-44...  01/03/17-20:28:52\n",
       "1  https://ckd.upgrad.com/UpGrad/185242ff-7508-4c...  01/03/17-20:18:21\n",
       "2  https://ckd.upgrad.com/UpGrad/a353d129-c100-43...  01/03/17-22:37:08\n",
       "3  https://ckd.upgrad.com/UpGrad/002fc912-faa1-49...  01/02/17-21:43:19\n",
       "4  https://ckd.upgrad.com/UpGrad/25cbc4a4-6d49-4f...  01/03/17-15:27:49"
      ]
     },
     "execution_count": 17,
     "metadata": {},
     "output_type": "execute_result"
    }
   ],
   "source": [
    "df.head()"
   ]
  },
  {
   "cell_type": "code",
   "execution_count": 19,
   "id": "e4e54763",
   "metadata": {},
   "outputs": [],
   "source": [
    "df['Submit Time New']= pd.to_datetime(df['submit_time'])"
   ]
  },
  {
   "cell_type": "code",
   "execution_count": 20,
   "id": "7ad619a0",
   "metadata": {},
   "outputs": [
    {
     "data": {
      "text/html": [
       "<div>\n",
       "<style scoped>\n",
       "    .dataframe tbody tr th:only-of-type {\n",
       "        vertical-align: middle;\n",
       "    }\n",
       "\n",
       "    .dataframe tbody tr th {\n",
       "        vertical-align: top;\n",
       "    }\n",
       "\n",
       "    .dataframe thead th {\n",
       "        text-align: right;\n",
       "    }\n",
       "</style>\n",
       "<table border=\"1\" class=\"dataframe\">\n",
       "  <thead>\n",
       "    <tr style=\"text-align: right;\">\n",
       "      <th></th>\n",
       "      <th>submission</th>\n",
       "      <th>submit_time</th>\n",
       "      <th>Submit Time New</th>\n",
       "    </tr>\n",
       "  </thead>\n",
       "  <tbody>\n",
       "    <tr>\n",
       "      <th>0</th>\n",
       "      <td>https://ckd.upgrad.com/UpGrad/73ba5189-94fd-44...</td>\n",
       "      <td>01/03/17-20:28:52</td>\n",
       "      <td>2017-01-03 20:28:52</td>\n",
       "    </tr>\n",
       "    <tr>\n",
       "      <th>1</th>\n",
       "      <td>https://ckd.upgrad.com/UpGrad/185242ff-7508-4c...</td>\n",
       "      <td>01/03/17-20:18:21</td>\n",
       "      <td>2017-01-03 20:18:21</td>\n",
       "    </tr>\n",
       "    <tr>\n",
       "      <th>2</th>\n",
       "      <td>https://ckd.upgrad.com/UpGrad/a353d129-c100-43...</td>\n",
       "      <td>01/03/17-22:37:08</td>\n",
       "      <td>2017-01-03 22:37:08</td>\n",
       "    </tr>\n",
       "    <tr>\n",
       "      <th>3</th>\n",
       "      <td>https://ckd.upgrad.com/UpGrad/002fc912-faa1-49...</td>\n",
       "      <td>01/02/17-21:43:19</td>\n",
       "      <td>2017-01-02 21:43:19</td>\n",
       "    </tr>\n",
       "    <tr>\n",
       "      <th>4</th>\n",
       "      <td>https://ckd.upgrad.com/UpGrad/25cbc4a4-6d49-4f...</td>\n",
       "      <td>01/03/17-15:27:49</td>\n",
       "      <td>2017-01-03 15:27:49</td>\n",
       "    </tr>\n",
       "  </tbody>\n",
       "</table>\n",
       "</div>"
      ],
      "text/plain": [
       "                                          submission        submit_time  \\\n",
       "0  https://ckd.upgrad.com/UpGrad/73ba5189-94fd-44...  01/03/17-20:28:52   \n",
       "1  https://ckd.upgrad.com/UpGrad/185242ff-7508-4c...  01/03/17-20:18:21   \n",
       "2  https://ckd.upgrad.com/UpGrad/a353d129-c100-43...  01/03/17-22:37:08   \n",
       "3  https://ckd.upgrad.com/UpGrad/002fc912-faa1-49...  01/02/17-21:43:19   \n",
       "4  https://ckd.upgrad.com/UpGrad/25cbc4a4-6d49-4f...  01/03/17-15:27:49   \n",
       "\n",
       "      Submit Time New  \n",
       "0 2017-01-03 20:28:52  \n",
       "1 2017-01-03 20:18:21  \n",
       "2 2017-01-03 22:37:08  \n",
       "3 2017-01-02 21:43:19  \n",
       "4 2017-01-03 15:27:49  "
      ]
     },
     "execution_count": 20,
     "metadata": {},
     "output_type": "execute_result"
    }
   ],
   "source": [
    "df.head()"
   ]
  },
  {
   "cell_type": "code",
   "execution_count": 21,
   "id": "35b83abc",
   "metadata": {},
   "outputs": [],
   "source": [
    "df['Day']= df['Submit Time New'].dt.day"
   ]
  },
  {
   "cell_type": "code",
   "execution_count": 8,
   "id": "7c1748c7",
   "metadata": {},
   "outputs": [
    {
     "data": {
      "text/html": [
       "<div>\n",
       "<style scoped>\n",
       "    .dataframe tbody tr th:only-of-type {\n",
       "        vertical-align: middle;\n",
       "    }\n",
       "\n",
       "    .dataframe tbody tr th {\n",
       "        vertical-align: top;\n",
       "    }\n",
       "\n",
       "    .dataframe thead th {\n",
       "        text-align: right;\n",
       "    }\n",
       "</style>\n",
       "<table border=\"1\" class=\"dataframe\">\n",
       "  <thead>\n",
       "    <tr style=\"text-align: right;\">\n",
       "      <th></th>\n",
       "      <th>submission</th>\n",
       "      <th>submit_time</th>\n",
       "      <th>Submit Time New</th>\n",
       "      <th>Day</th>\n",
       "    </tr>\n",
       "  </thead>\n",
       "  <tbody>\n",
       "    <tr>\n",
       "      <th>0</th>\n",
       "      <td>https://ckd.upgrad.com/UpGrad/73ba5189-94fd-44...</td>\n",
       "      <td>01/03/17-20:28:52</td>\n",
       "      <td>2017-01-03 20:28:52</td>\n",
       "      <td>3</td>\n",
       "    </tr>\n",
       "    <tr>\n",
       "      <th>1</th>\n",
       "      <td>https://ckd.upgrad.com/UpGrad/185242ff-7508-4c...</td>\n",
       "      <td>01/03/17-20:18:21</td>\n",
       "      <td>2017-01-03 20:18:21</td>\n",
       "      <td>3</td>\n",
       "    </tr>\n",
       "    <tr>\n",
       "      <th>2</th>\n",
       "      <td>https://ckd.upgrad.com/UpGrad/a353d129-c100-43...</td>\n",
       "      <td>01/03/17-22:37:08</td>\n",
       "      <td>2017-01-03 22:37:08</td>\n",
       "      <td>3</td>\n",
       "    </tr>\n",
       "    <tr>\n",
       "      <th>3</th>\n",
       "      <td>https://ckd.upgrad.com/UpGrad/002fc912-faa1-49...</td>\n",
       "      <td>01/02/17-21:43:19</td>\n",
       "      <td>2017-01-02 21:43:19</td>\n",
       "      <td>2</td>\n",
       "    </tr>\n",
       "    <tr>\n",
       "      <th>4</th>\n",
       "      <td>https://ckd.upgrad.com/UpGrad/25cbc4a4-6d49-4f...</td>\n",
       "      <td>01/03/17-15:27:49</td>\n",
       "      <td>2017-01-03 15:27:49</td>\n",
       "      <td>3</td>\n",
       "    </tr>\n",
       "  </tbody>\n",
       "</table>\n",
       "</div>"
      ],
      "text/plain": [
       "                                          submission        submit_time  \\\n",
       "0  https://ckd.upgrad.com/UpGrad/73ba5189-94fd-44...  01/03/17-20:28:52   \n",
       "1  https://ckd.upgrad.com/UpGrad/185242ff-7508-4c...  01/03/17-20:18:21   \n",
       "2  https://ckd.upgrad.com/UpGrad/a353d129-c100-43...  01/03/17-22:37:08   \n",
       "3  https://ckd.upgrad.com/UpGrad/002fc912-faa1-49...  01/02/17-21:43:19   \n",
       "4  https://ckd.upgrad.com/UpGrad/25cbc4a4-6d49-4f...  01/03/17-15:27:49   \n",
       "\n",
       "      Submit Time New  Day  \n",
       "0 2017-01-03 20:28:52    3  \n",
       "1 2017-01-03 20:18:21    3  \n",
       "2 2017-01-03 22:37:08    3  \n",
       "3 2017-01-02 21:43:19    2  \n",
       "4 2017-01-03 15:27:49    3  "
      ]
     },
     "execution_count": 8,
     "metadata": {},
     "output_type": "execute_result"
    }
   ],
   "source": [
    "df.head()"
   ]
  },
  {
   "cell_type": "code",
   "execution_count": 39,
   "id": "8517af75",
   "metadata": {},
   "outputs": [],
   "source": [
    "df['Month']= df['Submit Time New'].dt.month\n",
    "df['Year']= df['Submit Time New'].dt.year\n",
    "df['Hour']= df['Submit Time New'].dt.hour\n",
    "df['Minute']= df['Submit Time New'].dt.minute\n",
    "df['Date']= df['Submit Time New'].dt.date"
   ]
  },
  {
   "cell_type": "code",
   "execution_count": 10,
   "id": "d38570bf",
   "metadata": {},
   "outputs": [
    {
     "data": {
      "text/html": [
       "<div>\n",
       "<style scoped>\n",
       "    .dataframe tbody tr th:only-of-type {\n",
       "        vertical-align: middle;\n",
       "    }\n",
       "\n",
       "    .dataframe tbody tr th {\n",
       "        vertical-align: top;\n",
       "    }\n",
       "\n",
       "    .dataframe thead th {\n",
       "        text-align: right;\n",
       "    }\n",
       "</style>\n",
       "<table border=\"1\" class=\"dataframe\">\n",
       "  <thead>\n",
       "    <tr style=\"text-align: right;\">\n",
       "      <th></th>\n",
       "      <th>submission</th>\n",
       "      <th>submit_time</th>\n",
       "      <th>Submit Time New</th>\n",
       "      <th>Day</th>\n",
       "      <th>Month</th>\n",
       "      <th>Year</th>\n",
       "      <th>Hour</th>\n",
       "      <th>Minute</th>\n",
       "    </tr>\n",
       "  </thead>\n",
       "  <tbody>\n",
       "    <tr>\n",
       "      <th>0</th>\n",
       "      <td>https://ckd.upgrad.com/UpGrad/73ba5189-94fd-44...</td>\n",
       "      <td>01/03/17-20:28:52</td>\n",
       "      <td>2017-01-03 20:28:52</td>\n",
       "      <td>3</td>\n",
       "      <td>1</td>\n",
       "      <td>2017</td>\n",
       "      <td>20</td>\n",
       "      <td>28</td>\n",
       "    </tr>\n",
       "    <tr>\n",
       "      <th>1</th>\n",
       "      <td>https://ckd.upgrad.com/UpGrad/185242ff-7508-4c...</td>\n",
       "      <td>01/03/17-20:18:21</td>\n",
       "      <td>2017-01-03 20:18:21</td>\n",
       "      <td>3</td>\n",
       "      <td>1</td>\n",
       "      <td>2017</td>\n",
       "      <td>20</td>\n",
       "      <td>18</td>\n",
       "    </tr>\n",
       "    <tr>\n",
       "      <th>2</th>\n",
       "      <td>https://ckd.upgrad.com/UpGrad/a353d129-c100-43...</td>\n",
       "      <td>01/03/17-22:37:08</td>\n",
       "      <td>2017-01-03 22:37:08</td>\n",
       "      <td>3</td>\n",
       "      <td>1</td>\n",
       "      <td>2017</td>\n",
       "      <td>22</td>\n",
       "      <td>37</td>\n",
       "    </tr>\n",
       "    <tr>\n",
       "      <th>3</th>\n",
       "      <td>https://ckd.upgrad.com/UpGrad/002fc912-faa1-49...</td>\n",
       "      <td>01/02/17-21:43:19</td>\n",
       "      <td>2017-01-02 21:43:19</td>\n",
       "      <td>2</td>\n",
       "      <td>1</td>\n",
       "      <td>2017</td>\n",
       "      <td>21</td>\n",
       "      <td>43</td>\n",
       "    </tr>\n",
       "    <tr>\n",
       "      <th>4</th>\n",
       "      <td>https://ckd.upgrad.com/UpGrad/25cbc4a4-6d49-4f...</td>\n",
       "      <td>01/03/17-15:27:49</td>\n",
       "      <td>2017-01-03 15:27:49</td>\n",
       "      <td>3</td>\n",
       "      <td>1</td>\n",
       "      <td>2017</td>\n",
       "      <td>15</td>\n",
       "      <td>27</td>\n",
       "    </tr>\n",
       "  </tbody>\n",
       "</table>\n",
       "</div>"
      ],
      "text/plain": [
       "                                          submission        submit_time  \\\n",
       "0  https://ckd.upgrad.com/UpGrad/73ba5189-94fd-44...  01/03/17-20:28:52   \n",
       "1  https://ckd.upgrad.com/UpGrad/185242ff-7508-4c...  01/03/17-20:18:21   \n",
       "2  https://ckd.upgrad.com/UpGrad/a353d129-c100-43...  01/03/17-22:37:08   \n",
       "3  https://ckd.upgrad.com/UpGrad/002fc912-faa1-49...  01/02/17-21:43:19   \n",
       "4  https://ckd.upgrad.com/UpGrad/25cbc4a4-6d49-4f...  01/03/17-15:27:49   \n",
       "\n",
       "      Submit Time New  Day  Month  Year  Hour  Minute  \n",
       "0 2017-01-03 20:28:52    3      1  2017    20      28  \n",
       "1 2017-01-03 20:18:21    3      1  2017    20      18  \n",
       "2 2017-01-03 22:37:08    3      1  2017    22      37  \n",
       "3 2017-01-02 21:43:19    2      1  2017    21      43  \n",
       "4 2017-01-03 15:27:49    3      1  2017    15      27  "
      ]
     },
     "execution_count": 10,
     "metadata": {},
     "output_type": "execute_result"
    }
   ],
   "source": [
    "df.head()"
   ]
  },
  {
   "cell_type": "code",
   "execution_count": 11,
   "id": "3a1e4528",
   "metadata": {},
   "outputs": [
    {
     "data": {
      "text/plain": [
       "'https://ckd.upgrad.com/UpGrad/73ba5189-94fd-44aa-88d3-6b36aaa69b02/DDA1610095.zip'"
      ]
     },
     "execution_count": 11,
     "metadata": {},
     "output_type": "execute_result"
    }
   ],
   "source": [
    "df['submission'][0]"
   ]
  },
  {
   "cell_type": "code",
   "execution_count": 23,
   "id": "70d82fd7",
   "metadata": {},
   "outputs": [
    {
     "name": "stdout",
     "output_type": "stream",
     "text": [
      "0      zip\n",
      "1      zip\n",
      "2      zip\n",
      "3      zip\n",
      "4      zip\n",
      "      ... \n",
      "193    zip\n",
      "194    zip\n",
      "195    zip\n",
      "196      R\n",
      "197    zip\n",
      "Name: submission, Length: 198, dtype: object\n"
     ]
    }
   ],
   "source": [
    "print(df.submission.apply(lambda x: x.split('.')[-1]))"
   ]
  },
  {
   "cell_type": "code",
   "execution_count": 15,
   "id": "6c116f55",
   "metadata": {},
   "outputs": [
    {
     "data": {
      "text/html": [
       "<div>\n",
       "<style scoped>\n",
       "    .dataframe tbody tr th:only-of-type {\n",
       "        vertical-align: middle;\n",
       "    }\n",
       "\n",
       "    .dataframe tbody tr th {\n",
       "        vertical-align: top;\n",
       "    }\n",
       "\n",
       "    .dataframe thead th {\n",
       "        text-align: right;\n",
       "    }\n",
       "</style>\n",
       "<table border=\"1\" class=\"dataframe\">\n",
       "  <thead>\n",
       "    <tr style=\"text-align: right;\">\n",
       "      <th></th>\n",
       "      <th>submission</th>\n",
       "      <th>submit_time</th>\n",
       "      <th>Submit Time New</th>\n",
       "      <th>Day</th>\n",
       "      <th>Month</th>\n",
       "      <th>Year</th>\n",
       "      <th>Hour</th>\n",
       "      <th>Minute</th>\n",
       "    </tr>\n",
       "  </thead>\n",
       "  <tbody>\n",
       "    <tr>\n",
       "      <th>0</th>\n",
       "      <td>zip</td>\n",
       "      <td>01/03/17-20:28:52</td>\n",
       "      <td>2017-01-03 20:28:52</td>\n",
       "      <td>3</td>\n",
       "      <td>1</td>\n",
       "      <td>2017</td>\n",
       "      <td>20</td>\n",
       "      <td>28</td>\n",
       "    </tr>\n",
       "    <tr>\n",
       "      <th>1</th>\n",
       "      <td>zip</td>\n",
       "      <td>01/03/17-20:18:21</td>\n",
       "      <td>2017-01-03 20:18:21</td>\n",
       "      <td>3</td>\n",
       "      <td>1</td>\n",
       "      <td>2017</td>\n",
       "      <td>20</td>\n",
       "      <td>18</td>\n",
       "    </tr>\n",
       "    <tr>\n",
       "      <th>2</th>\n",
       "      <td>zip</td>\n",
       "      <td>01/03/17-22:37:08</td>\n",
       "      <td>2017-01-03 22:37:08</td>\n",
       "      <td>3</td>\n",
       "      <td>1</td>\n",
       "      <td>2017</td>\n",
       "      <td>22</td>\n",
       "      <td>37</td>\n",
       "    </tr>\n",
       "    <tr>\n",
       "      <th>3</th>\n",
       "      <td>zip</td>\n",
       "      <td>01/02/17-21:43:19</td>\n",
       "      <td>2017-01-02 21:43:19</td>\n",
       "      <td>2</td>\n",
       "      <td>1</td>\n",
       "      <td>2017</td>\n",
       "      <td>21</td>\n",
       "      <td>43</td>\n",
       "    </tr>\n",
       "    <tr>\n",
       "      <th>4</th>\n",
       "      <td>zip</td>\n",
       "      <td>01/03/17-15:27:49</td>\n",
       "      <td>2017-01-03 15:27:49</td>\n",
       "      <td>3</td>\n",
       "      <td>1</td>\n",
       "      <td>2017</td>\n",
       "      <td>15</td>\n",
       "      <td>27</td>\n",
       "    </tr>\n",
       "  </tbody>\n",
       "</table>\n",
       "</div>"
      ],
      "text/plain": [
       "  submission        submit_time     Submit Time New  Day  Month  Year  Hour  \\\n",
       "0        zip  01/03/17-20:28:52 2017-01-03 20:28:52    3      1  2017    20   \n",
       "1        zip  01/03/17-20:18:21 2017-01-03 20:18:21    3      1  2017    20   \n",
       "2        zip  01/03/17-22:37:08 2017-01-03 22:37:08    3      1  2017    22   \n",
       "3        zip  01/02/17-21:43:19 2017-01-02 21:43:19    2      1  2017    21   \n",
       "4        zip  01/03/17-15:27:49 2017-01-03 15:27:49    3      1  2017    15   \n",
       "\n",
       "   Minute  \n",
       "0      28  \n",
       "1      18  \n",
       "2      37  \n",
       "3      43  \n",
       "4      27  "
      ]
     },
     "execution_count": 15,
     "metadata": {},
     "output_type": "execute_result"
    }
   ],
   "source": [
    "df.head()"
   ]
  },
  {
   "cell_type": "code",
   "execution_count": 24,
   "id": "be8ce7f3",
   "metadata": {},
   "outputs": [],
   "source": [
    "df['Submit format']=df.submission.apply(lambda x: x.split('.')[-1])"
   ]
  },
  {
   "cell_type": "code",
   "execution_count": 25,
   "id": "fbc11bfa",
   "metadata": {},
   "outputs": [
    {
     "data": {
      "text/html": [
       "<div>\n",
       "<style scoped>\n",
       "    .dataframe tbody tr th:only-of-type {\n",
       "        vertical-align: middle;\n",
       "    }\n",
       "\n",
       "    .dataframe tbody tr th {\n",
       "        vertical-align: top;\n",
       "    }\n",
       "\n",
       "    .dataframe thead th {\n",
       "        text-align: right;\n",
       "    }\n",
       "</style>\n",
       "<table border=\"1\" class=\"dataframe\">\n",
       "  <thead>\n",
       "    <tr style=\"text-align: right;\">\n",
       "      <th></th>\n",
       "      <th>submission</th>\n",
       "      <th>submit_time</th>\n",
       "      <th>Submit Time New</th>\n",
       "      <th>Day</th>\n",
       "      <th>Month</th>\n",
       "      <th>Year</th>\n",
       "      <th>Hour</th>\n",
       "      <th>Minute</th>\n",
       "      <th>Submit format</th>\n",
       "    </tr>\n",
       "  </thead>\n",
       "  <tbody>\n",
       "    <tr>\n",
       "      <th>0</th>\n",
       "      <td>https://ckd.upgrad.com/UpGrad/73ba5189-94fd-44...</td>\n",
       "      <td>01/03/17-20:28:52</td>\n",
       "      <td>2017-01-03 20:28:52</td>\n",
       "      <td>3</td>\n",
       "      <td>1</td>\n",
       "      <td>2017</td>\n",
       "      <td>20</td>\n",
       "      <td>28</td>\n",
       "      <td>zip</td>\n",
       "    </tr>\n",
       "    <tr>\n",
       "      <th>1</th>\n",
       "      <td>https://ckd.upgrad.com/UpGrad/185242ff-7508-4c...</td>\n",
       "      <td>01/03/17-20:18:21</td>\n",
       "      <td>2017-01-03 20:18:21</td>\n",
       "      <td>3</td>\n",
       "      <td>1</td>\n",
       "      <td>2017</td>\n",
       "      <td>20</td>\n",
       "      <td>18</td>\n",
       "      <td>zip</td>\n",
       "    </tr>\n",
       "    <tr>\n",
       "      <th>2</th>\n",
       "      <td>https://ckd.upgrad.com/UpGrad/a353d129-c100-43...</td>\n",
       "      <td>01/03/17-22:37:08</td>\n",
       "      <td>2017-01-03 22:37:08</td>\n",
       "      <td>3</td>\n",
       "      <td>1</td>\n",
       "      <td>2017</td>\n",
       "      <td>22</td>\n",
       "      <td>37</td>\n",
       "      <td>zip</td>\n",
       "    </tr>\n",
       "    <tr>\n",
       "      <th>3</th>\n",
       "      <td>https://ckd.upgrad.com/UpGrad/002fc912-faa1-49...</td>\n",
       "      <td>01/02/17-21:43:19</td>\n",
       "      <td>2017-01-02 21:43:19</td>\n",
       "      <td>2</td>\n",
       "      <td>1</td>\n",
       "      <td>2017</td>\n",
       "      <td>21</td>\n",
       "      <td>43</td>\n",
       "      <td>zip</td>\n",
       "    </tr>\n",
       "    <tr>\n",
       "      <th>4</th>\n",
       "      <td>https://ckd.upgrad.com/UpGrad/25cbc4a4-6d49-4f...</td>\n",
       "      <td>01/03/17-15:27:49</td>\n",
       "      <td>2017-01-03 15:27:49</td>\n",
       "      <td>3</td>\n",
       "      <td>1</td>\n",
       "      <td>2017</td>\n",
       "      <td>15</td>\n",
       "      <td>27</td>\n",
       "      <td>zip</td>\n",
       "    </tr>\n",
       "  </tbody>\n",
       "</table>\n",
       "</div>"
      ],
      "text/plain": [
       "                                          submission        submit_time  \\\n",
       "0  https://ckd.upgrad.com/UpGrad/73ba5189-94fd-44...  01/03/17-20:28:52   \n",
       "1  https://ckd.upgrad.com/UpGrad/185242ff-7508-4c...  01/03/17-20:18:21   \n",
       "2  https://ckd.upgrad.com/UpGrad/a353d129-c100-43...  01/03/17-22:37:08   \n",
       "3  https://ckd.upgrad.com/UpGrad/002fc912-faa1-49...  01/02/17-21:43:19   \n",
       "4  https://ckd.upgrad.com/UpGrad/25cbc4a4-6d49-4f...  01/03/17-15:27:49   \n",
       "\n",
       "      Submit Time New  Day  Month  Year  Hour  Minute Submit format  \n",
       "0 2017-01-03 20:28:52    3      1  2017    20      28           zip  \n",
       "1 2017-01-03 20:18:21    3      1  2017    20      18           zip  \n",
       "2 2017-01-03 22:37:08    3      1  2017    22      37           zip  \n",
       "3 2017-01-02 21:43:19    2      1  2017    21      43           zip  \n",
       "4 2017-01-03 15:27:49    3      1  2017    15      27           zip  "
      ]
     },
     "execution_count": 25,
     "metadata": {},
     "output_type": "execute_result"
    }
   ],
   "source": [
    "df.head()"
   ]
  },
  {
   "cell_type": "code",
   "execution_count": 26,
   "id": "32f7173c",
   "metadata": {},
   "outputs": [],
   "source": [
    "count=df.groupby([\"Submit format\"]).count()"
   ]
  },
  {
   "cell_type": "code",
   "execution_count": 27,
   "id": "c0d8c881",
   "metadata": {},
   "outputs": [
    {
     "name": "stdout",
     "output_type": "stream",
     "text": [
      "               submission  submit_time  Submit Time New  Day  Month  Year  \\\n",
      "Submit format                                                               \n",
      "7z                      2            2                2    2      2     2   \n",
      "R                       7            7                7    7      7     7   \n",
      "zip                   189          189              189  189    189   189   \n",
      "\n",
      "               Hour  Minute  \n",
      "Submit format                \n",
      "7z                2       2  \n",
      "R                 7       7  \n",
      "zip             189     189  \n"
     ]
    }
   ],
   "source": [
    "print(count)"
   ]
  },
  {
   "cell_type": "code",
   "execution_count": 28,
   "id": "b0c599ae",
   "metadata": {},
   "outputs": [
    {
     "data": {
      "text/plain": [
       "(198, 9)"
      ]
     },
     "execution_count": 28,
     "metadata": {},
     "output_type": "execute_result"
    }
   ],
   "source": [
    "df.shape"
   ]
  },
  {
   "cell_type": "code",
   "execution_count": 31,
   "id": "13334643",
   "metadata": {},
   "outputs": [],
   "source": [
    "percent=(189/198)*100"
   ]
  },
  {
   "cell_type": "code",
   "execution_count": 32,
   "id": "50ca3433",
   "metadata": {},
   "outputs": [
    {
     "name": "stdout",
     "output_type": "stream",
     "text": [
      "95.45454545454545\n"
     ]
    }
   ],
   "source": [
    "print(percent)"
   ]
  },
  {
   "cell_type": "code",
   "execution_count": 33,
   "id": "91a2f12f",
   "metadata": {},
   "outputs": [
    {
     "name": "stdout",
     "output_type": "stream",
     "text": [
      "2017-01-03 23:59:59\n",
      "0      False\n",
      "1      False\n",
      "2      False\n",
      "3      False\n",
      "4      False\n",
      "       ...  \n",
      "193    False\n",
      "194     True\n",
      "195    False\n",
      "196     True\n",
      "197    False\n",
      "Name: Submit Time New, Length: 198, dtype: bool\n"
     ]
    }
   ],
   "source": [
    "deadline_date = pd.to_datetime('2017-01-03 23:59:59')\n",
    "print(deadline_date)\n",
    "crossed_deadline=df['Submit Time New'].apply(lambda x: x>deadline_date, 1,0)\n",
    "print(crossed_deadline)"
   ]
  },
  {
   "cell_type": "code",
   "execution_count": 36,
   "id": "05439762",
   "metadata": {},
   "outputs": [],
   "source": [
    "df['crossed_first_deadline']=df['Submit Time New'].apply(lambda x: x>deadline_date, 1,0)"
   ]
  },
  {
   "cell_type": "code",
   "execution_count": 37,
   "id": "0c3f4a90",
   "metadata": {},
   "outputs": [
    {
     "data": {
      "text/html": [
       "<div>\n",
       "<style scoped>\n",
       "    .dataframe tbody tr th:only-of-type {\n",
       "        vertical-align: middle;\n",
       "    }\n",
       "\n",
       "    .dataframe tbody tr th {\n",
       "        vertical-align: top;\n",
       "    }\n",
       "\n",
       "    .dataframe thead th {\n",
       "        text-align: right;\n",
       "    }\n",
       "</style>\n",
       "<table border=\"1\" class=\"dataframe\">\n",
       "  <thead>\n",
       "    <tr style=\"text-align: right;\">\n",
       "      <th></th>\n",
       "      <th>submission</th>\n",
       "      <th>submit_time</th>\n",
       "      <th>Submit Time New</th>\n",
       "      <th>Day</th>\n",
       "      <th>Month</th>\n",
       "      <th>Year</th>\n",
       "      <th>Hour</th>\n",
       "      <th>Minute</th>\n",
       "      <th>Submit format</th>\n",
       "      <th>crossed_deadline</th>\n",
       "      <th>crossed_first_deadline</th>\n",
       "    </tr>\n",
       "  </thead>\n",
       "  <tbody>\n",
       "    <tr>\n",
       "      <th>0</th>\n",
       "      <td>https://ckd.upgrad.com/UpGrad/73ba5189-94fd-44...</td>\n",
       "      <td>01/03/17-20:28:52</td>\n",
       "      <td>2017-01-03 20:28:52</td>\n",
       "      <td>3</td>\n",
       "      <td>1</td>\n",
       "      <td>2017</td>\n",
       "      <td>20</td>\n",
       "      <td>28</td>\n",
       "      <td>zip</td>\n",
       "      <td>False</td>\n",
       "      <td>False</td>\n",
       "    </tr>\n",
       "    <tr>\n",
       "      <th>1</th>\n",
       "      <td>https://ckd.upgrad.com/UpGrad/185242ff-7508-4c...</td>\n",
       "      <td>01/03/17-20:18:21</td>\n",
       "      <td>2017-01-03 20:18:21</td>\n",
       "      <td>3</td>\n",
       "      <td>1</td>\n",
       "      <td>2017</td>\n",
       "      <td>20</td>\n",
       "      <td>18</td>\n",
       "      <td>zip</td>\n",
       "      <td>False</td>\n",
       "      <td>False</td>\n",
       "    </tr>\n",
       "    <tr>\n",
       "      <th>2</th>\n",
       "      <td>https://ckd.upgrad.com/UpGrad/a353d129-c100-43...</td>\n",
       "      <td>01/03/17-22:37:08</td>\n",
       "      <td>2017-01-03 22:37:08</td>\n",
       "      <td>3</td>\n",
       "      <td>1</td>\n",
       "      <td>2017</td>\n",
       "      <td>22</td>\n",
       "      <td>37</td>\n",
       "      <td>zip</td>\n",
       "      <td>False</td>\n",
       "      <td>False</td>\n",
       "    </tr>\n",
       "    <tr>\n",
       "      <th>3</th>\n",
       "      <td>https://ckd.upgrad.com/UpGrad/002fc912-faa1-49...</td>\n",
       "      <td>01/02/17-21:43:19</td>\n",
       "      <td>2017-01-02 21:43:19</td>\n",
       "      <td>2</td>\n",
       "      <td>1</td>\n",
       "      <td>2017</td>\n",
       "      <td>21</td>\n",
       "      <td>43</td>\n",
       "      <td>zip</td>\n",
       "      <td>False</td>\n",
       "      <td>False</td>\n",
       "    </tr>\n",
       "    <tr>\n",
       "      <th>4</th>\n",
       "      <td>https://ckd.upgrad.com/UpGrad/25cbc4a4-6d49-4f...</td>\n",
       "      <td>01/03/17-15:27:49</td>\n",
       "      <td>2017-01-03 15:27:49</td>\n",
       "      <td>3</td>\n",
       "      <td>1</td>\n",
       "      <td>2017</td>\n",
       "      <td>15</td>\n",
       "      <td>27</td>\n",
       "      <td>zip</td>\n",
       "      <td>False</td>\n",
       "      <td>False</td>\n",
       "    </tr>\n",
       "  </tbody>\n",
       "</table>\n",
       "</div>"
      ],
      "text/plain": [
       "                                          submission        submit_time  \\\n",
       "0  https://ckd.upgrad.com/UpGrad/73ba5189-94fd-44...  01/03/17-20:28:52   \n",
       "1  https://ckd.upgrad.com/UpGrad/185242ff-7508-4c...  01/03/17-20:18:21   \n",
       "2  https://ckd.upgrad.com/UpGrad/a353d129-c100-43...  01/03/17-22:37:08   \n",
       "3  https://ckd.upgrad.com/UpGrad/002fc912-faa1-49...  01/02/17-21:43:19   \n",
       "4  https://ckd.upgrad.com/UpGrad/25cbc4a4-6d49-4f...  01/03/17-15:27:49   \n",
       "\n",
       "      Submit Time New  Day  Month  Year  Hour  Minute Submit format  \\\n",
       "0 2017-01-03 20:28:52    3      1  2017    20      28           zip   \n",
       "1 2017-01-03 20:18:21    3      1  2017    20      18           zip   \n",
       "2 2017-01-03 22:37:08    3      1  2017    22      37           zip   \n",
       "3 2017-01-02 21:43:19    2      1  2017    21      43           zip   \n",
       "4 2017-01-03 15:27:49    3      1  2017    15      27           zip   \n",
       "\n",
       "   crossed_deadline  crossed_first_deadline  \n",
       "0             False                   False  \n",
       "1             False                   False  \n",
       "2             False                   False  \n",
       "3             False                   False  \n",
       "4             False                   False  "
      ]
     },
     "execution_count": 37,
     "metadata": {},
     "output_type": "execute_result"
    }
   ],
   "source": [
    "df.head()"
   ]
  },
  {
   "cell_type": "code",
   "execution_count": 38,
   "id": "76e072b3",
   "metadata": {},
   "outputs": [
    {
     "name": "stdout",
     "output_type": "stream",
     "text": [
      "                        submission  submit_time  Submit Time New  Day  Month  \\\n",
      "crossed_first_deadline                                                         \n",
      "False                          154          154              154  154    154   \n",
      "True                            44           44               44   44     44   \n",
      "\n",
      "                        Year  Hour  Minute  Submit format  crossed_deadline  \n",
      "crossed_first_deadline                                                       \n",
      "False                    154   154     154            154               154  \n",
      "True                      44    44      44             44                44  \n"
     ]
    }
   ],
   "source": [
    "print(df.groupby([\"crossed_first_deadline\"]).count())"
   ]
  },
  {
   "cell_type": "code",
   "execution_count": 40,
   "id": "dd2801db",
   "metadata": {},
   "outputs": [
    {
     "name": "stdout",
     "output_type": "stream",
     "text": [
      "            submission  submit_time  Submit Time New  Day  Month  Year  Hour  \\\n",
      "Date                                                                           \n",
      "2016-11-19           1            1                1    1      1     1     1   \n",
      "2016-12-19           1            1                1    1      1     1     1   \n",
      "2016-12-21           1            1                1    1      1     1     1   \n",
      "2016-12-28           2            2                2    2      2     2     2   \n",
      "2016-12-29           2            2                2    2      2     2     2   \n",
      "2016-12-30           6            6                6    6      6     6     6   \n",
      "2016-12-31           1            1                1    1      1     1     1   \n",
      "2017-01-01           6            6                6    6      6     6     6   \n",
      "2017-01-02          14           14               14   14     14    14    14   \n",
      "2017-01-03         120          120              120  120    120   120   120   \n",
      "2017-01-04          12           12               12   12     12    12    12   \n",
      "2017-01-06           1            1                1    1      1     1     1   \n",
      "2017-01-07           2            2                2    2      2     2     2   \n",
      "2017-01-08           3            3                3    3      3     3     3   \n",
      "2017-01-09          21           21               21   21     21    21    21   \n",
      "2017-01-10           3            3                3    3      3     3     3   \n",
      "2017-01-17           1            1                1    1      1     1     1   \n",
      "2017-02-03           1            1                1    1      1     1     1   \n",
      "\n",
      "            Minute  Submit format  crossed_deadline  crossed_first_deadline  \n",
      "Date                                                                         \n",
      "2016-11-19       1              1                 1                       1  \n",
      "2016-12-19       1              1                 1                       1  \n",
      "2016-12-21       1              1                 1                       1  \n",
      "2016-12-28       2              2                 2                       2  \n",
      "2016-12-29       2              2                 2                       2  \n",
      "2016-12-30       6              6                 6                       6  \n",
      "2016-12-31       1              1                 1                       1  \n",
      "2017-01-01       6              6                 6                       6  \n",
      "2017-01-02      14             14                14                      14  \n",
      "2017-01-03     120            120               120                     120  \n",
      "2017-01-04      12             12                12                      12  \n",
      "2017-01-06       1              1                 1                       1  \n",
      "2017-01-07       2              2                 2                       2  \n",
      "2017-01-08       3              3                 3                       3  \n",
      "2017-01-09      21             21                21                      21  \n",
      "2017-01-10       3              3                 3                       3  \n",
      "2017-01-17       1              1                 1                       1  \n",
      "2017-02-03       1              1                 1                       1  \n"
     ]
    }
   ],
   "source": [
    "print(df.groupby([\"Date\"]).count())"
   ]
  },
  {
   "cell_type": "code",
   "execution_count": 41,
   "id": "4b1e3564",
   "metadata": {},
   "outputs": [
    {
     "name": "stdout",
     "output_type": "stream",
     "text": [
      "      submission  submit_time  Submit Time New  Day  Month  Year  Minute  \\\n",
      "Hour                                                                       \n",
      "0             10           10               10   10     10    10      10   \n",
      "1              8            8                8    8      8     8       8   \n",
      "2              2            2                2    2      2     2       2   \n",
      "3              3            3                3    3      3     3       3   \n",
      "4              2            2                2    2      2     2       2   \n",
      "6              1            1                1    1      1     1       1   \n",
      "8              1            1                1    1      1     1       1   \n",
      "9              1            1                1    1      1     1       1   \n",
      "10             3            3                3    3      3     3       3   \n",
      "11             1            1                1    1      1     1       1   \n",
      "12             3            3                3    3      3     3       3   \n",
      "13             6            6                6    6      6     6       6   \n",
      "14             6            6                6    6      6     6       6   \n",
      "15             4            4                4    4      4     4       4   \n",
      "16             2            2                2    2      2     2       2   \n",
      "17             4            4                4    4      4     4       4   \n",
      "18             6            6                6    6      6     6       6   \n",
      "19             2            2                2    2      2     2       2   \n",
      "20            16           16               16   16     16    16      16   \n",
      "21            27           27               27   27     27    27      27   \n",
      "22            24           24               24   24     24    24      24   \n",
      "23            66           66               66   66     66    66      66   \n",
      "\n",
      "      Submit format  crossed_deadline  crossed_first_deadline  Date  \n",
      "Hour                                                                 \n",
      "0                10                10                      10    10  \n",
      "1                 8                 8                       8     8  \n",
      "2                 2                 2                       2     2  \n",
      "3                 3                 3                       3     3  \n",
      "4                 2                 2                       2     2  \n",
      "6                 1                 1                       1     1  \n",
      "8                 1                 1                       1     1  \n",
      "9                 1                 1                       1     1  \n",
      "10                3                 3                       3     3  \n",
      "11                1                 1                       1     1  \n",
      "12                3                 3                       3     3  \n",
      "13                6                 6                       6     6  \n",
      "14                6                 6                       6     6  \n",
      "15                4                 4                       4     4  \n",
      "16                2                 2                       2     2  \n",
      "17                4                 4                       4     4  \n",
      "18                6                 6                       6     6  \n",
      "19                2                 2                       2     2  \n",
      "20               16                16                      16    16  \n",
      "21               27                27                      27    27  \n",
      "22               24                24                      24    24  \n",
      "23               66                66                      66    66  \n"
     ]
    }
   ],
   "source": [
    "print(df.groupby([\"Hour\"]).count())"
   ]
  },
  {
   "cell_type": "code",
   "execution_count": 43,
   "id": "3df0061a",
   "metadata": {},
   "outputs": [
    {
     "data": {
      "image/png": "[encoded data removed]",
      "text/plain": [
       "<Figure size 640x480 with 1 Axes>"
      ]
     },
     "metadata": {},
     "output_type": "display_data"
    }
   ],
   "source": [
    "sns.histplot(x=df['Hour'])\n",
    "plt.show()"
   ]
  },
  {
   "cell_type": "code",
   "execution_count": null,
   "id": "5e7309f8",
   "metadata": {},
   "outputs": [],
   "source": []
  }
 ],
 "metadata": {
  "kernelspec": {
   "display_name": "Python 3 (ipykernel)",
   "language": "python",
   "name": "python3"
  },
  "language_info": {
   "codemirror_mode": {
    "name": "ipython",
    "version": 3
   },
   "file_extension": ".py",
   "mimetype": "text/x-python",
   "name": "python",
   "nbconvert_exporter": "python",
   "pygments_lexer": "ipython3",
   "version": "3.9.13"
  }
 },
 "nbformat": 4,
 "nbformat_minor": 5
}
