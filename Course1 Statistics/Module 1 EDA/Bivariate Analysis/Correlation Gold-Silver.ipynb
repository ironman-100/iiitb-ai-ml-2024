{
 "cells": [
  {
   "cell_type": "code",
   "execution_count": 1,
   "id": "365607ef",
   "metadata": {},
   "outputs": [],
   "source": [
    "import pandas as pd\n",
    "import numpy as np\n",
    "import matplotlib.pyplot as plt\n",
    "import seaborn as sns\n",
    "import warnings\n",
    "warnings.filterwarnings('ignore')"
   ]
  },
  {
   "cell_type": "code",
   "execution_count": 2,
   "id": "4027b862",
   "metadata": {},
   "outputs": [],
   "source": [
    "df=pd.read_csv('EDA_Gold_Silver_prices.csv')"
   ]
  },
  {
   "cell_type": "code",
   "execution_count": 3,
   "id": "aa101b5e",
   "metadata": {},
   "outputs": [
    {
     "data": {
      "text/html": [
       "<div>\n",
       "<style scoped>\n",
       "    .dataframe tbody tr th:only-of-type {\n",
       "        vertical-align: middle;\n",
       "    }\n",
       "\n",
       "    .dataframe tbody tr th {\n",
       "        vertical-align: top;\n",
       "    }\n",
       "\n",
       "    .dataframe thead th {\n",
       "        text-align: right;\n",
       "    }\n",
       "</style>\n",
       "<table border=\"1\" class=\"dataframe\">\n",
       "  <thead>\n",
       "    <tr style=\"text-align: right;\">\n",
       "      <th></th>\n",
       "      <th>Month</th>\n",
       "      <th>SilverPrice</th>\n",
       "      <th>GoldPrice</th>\n",
       "    </tr>\n",
       "  </thead>\n",
       "  <tbody>\n",
       "    <tr>\n",
       "      <th>0</th>\n",
       "      <td>Mar-97</td>\n",
       "      <td>186.48</td>\n",
       "      <td>12619.24</td>\n",
       "    </tr>\n",
       "    <tr>\n",
       "      <th>1</th>\n",
       "      <td>Apr-97</td>\n",
       "      <td>170.65</td>\n",
       "      <td>12338.59</td>\n",
       "    </tr>\n",
       "    <tr>\n",
       "      <th>2</th>\n",
       "      <td>May-97</td>\n",
       "      <td>170.44</td>\n",
       "      <td>12314.94</td>\n",
       "    </tr>\n",
       "    <tr>\n",
       "      <th>3</th>\n",
       "      <td>Jun-97</td>\n",
       "      <td>169.96</td>\n",
       "      <td>12202.78</td>\n",
       "    </tr>\n",
       "    <tr>\n",
       "      <th>4</th>\n",
       "      <td>Jul-97</td>\n",
       "      <td>155.80</td>\n",
       "      <td>11582.07</td>\n",
       "    </tr>\n",
       "    <tr>\n",
       "      <th>5</th>\n",
       "      <td>Aug-97</td>\n",
       "      <td>162.16</td>\n",
       "      <td>11640.38</td>\n",
       "    </tr>\n",
       "    <tr>\n",
       "      <th>6</th>\n",
       "      <td>Sep-97</td>\n",
       "      <td>172.13</td>\n",
       "      <td>11755.57</td>\n",
       "    </tr>\n",
       "    <tr>\n",
       "      <th>7</th>\n",
       "      <td>Oct-97</td>\n",
       "      <td>181.57</td>\n",
       "      <td>11769.89</td>\n",
       "    </tr>\n",
       "    <tr>\n",
       "      <th>8</th>\n",
       "      <td>Nov-97</td>\n",
       "      <td>187.99</td>\n",
       "      <td>11370.19</td>\n",
       "    </tr>\n",
       "    <tr>\n",
       "      <th>9</th>\n",
       "      <td>Dec-97</td>\n",
       "      <td>224.16</td>\n",
       "      <td>11324.79</td>\n",
       "    </tr>\n",
       "  </tbody>\n",
       "</table>\n",
       "</div>"
      ],
      "text/plain": [
       "    Month  SilverPrice  GoldPrice\n",
       "0  Mar-97       186.48   12619.24\n",
       "1  Apr-97       170.65   12338.59\n",
       "2  May-97       170.44   12314.94\n",
       "3  Jun-97       169.96   12202.78\n",
       "4  Jul-97       155.80   11582.07\n",
       "5  Aug-97       162.16   11640.38\n",
       "6  Sep-97       172.13   11755.57\n",
       "7  Oct-97       181.57   11769.89\n",
       "8  Nov-97       187.99   11370.19\n",
       "9  Dec-97       224.16   11324.79"
      ]
     },
     "execution_count": 3,
     "metadata": {},
     "output_type": "execute_result"
    }
   ],
   "source": [
    "df.head(10)"
   ]
  },
  {
   "cell_type": "code",
   "execution_count": 4,
   "id": "414db3dd",
   "metadata": {},
   "outputs": [],
   "source": [
    "corr = df['SilverPrice'].corr(df['GoldPrice'])"
   ]
  },
  {
   "cell_type": "code",
   "execution_count": 5,
   "id": "57ee4760",
   "metadata": {},
   "outputs": [
    {
     "name": "stdout",
     "output_type": "stream",
     "text": [
      "0.9542559570539775\n"
     ]
    }
   ],
   "source": [
    "print(corr)"
   ]
  },
  {
   "cell_type": "code",
   "execution_count": 6,
   "id": "3239f722",
   "metadata": {},
   "outputs": [],
   "source": [
    "corr = df.corr()"
   ]
  },
  {
   "cell_type": "code",
   "execution_count": 7,
   "id": "493edda8",
   "metadata": {},
   "outputs": [
    {
     "name": "stdout",
     "output_type": "stream",
     "text": [
      "             SilverPrice  GoldPrice\n",
      "SilverPrice     1.000000   0.954256\n",
      "GoldPrice       0.954256   1.000000\n"
     ]
    }
   ],
   "source": [
    "print(corr)"
   ]
  },
  {
   "cell_type": "code",
   "execution_count": 8,
   "id": "a9950489",
   "metadata": {},
   "outputs": [
    {
     "name": "stdout",
     "output_type": "stream",
     "text": [
      "<class 'pandas.core.frame.DataFrame'>\n",
      "RangeIndex: 241 entries, 0 to 240\n",
      "Data columns (total 3 columns):\n",
      " #   Column       Non-Null Count  Dtype  \n",
      "---  ------       --------------  -----  \n",
      " 0   Month        241 non-null    object \n",
      " 1   SilverPrice  241 non-null    float64\n",
      " 2   GoldPrice    241 non-null    float64\n",
      "dtypes: float64(2), object(1)\n",
      "memory usage: 5.8+ KB\n"
     ]
    }
   ],
   "source": [
    "df.info()"
   ]
  },
  {
   "cell_type": "code",
   "execution_count": 9,
   "id": "6675f0c2",
   "metadata": {},
   "outputs": [
    {
     "data": {
      "text/plain": [
       "(241, 3)"
      ]
     },
     "execution_count": 9,
     "metadata": {},
     "output_type": "execute_result"
    }
   ],
   "source": [
    "df.shape"
   ]
  },
  {
   "cell_type": "code",
   "execution_count": 13,
   "id": "26cab17a",
   "metadata": {},
   "outputs": [
    {
     "name": "stdout",
     "output_type": "stream",
     "text": [
      "Dec-08\n"
     ]
    }
   ],
   "source": [
    "print(df['Month'][141])"
   ]
  },
  {
   "cell_type": "code",
   "execution_count": 16,
   "id": "f8fcbe4c",
   "metadata": {},
   "outputs": [
    {
     "name": "stdout",
     "output_type": "stream",
     "text": [
      "Jan-08\n"
     ]
    }
   ],
   "source": [
    "print(df['Month'][130])"
   ]
  },
  {
   "cell_type": "code",
   "execution_count": 18,
   "id": "4d56764e",
   "metadata": {},
   "outputs": [],
   "source": [
    "sub=df['Month'][130:141]"
   ]
  },
  {
   "cell_type": "code",
   "execution_count": 19,
   "id": "28b8c4b5",
   "metadata": {},
   "outputs": [
    {
     "name": "stdout",
     "output_type": "stream",
     "text": [
      "130    Jan-08\n",
      "131    Feb-08\n",
      "132    Mar-08\n",
      "133    Apr-08\n",
      "134    May-08\n",
      "135    Jun-08\n",
      "136    Jul-08\n",
      "137    Aug-08\n",
      "138    Sep-08\n",
      "139    Oct-08\n",
      "140    Nov-08\n",
      "Name: Month, dtype: object\n"
     ]
    }
   ],
   "source": [
    "print(sub)"
   ]
  },
  {
   "cell_type": "code",
   "execution_count": 20,
   "id": "f3647f64",
   "metadata": {},
   "outputs": [],
   "source": [
    "corr = df.corr()[130:141]"
   ]
  },
  {
   "cell_type": "code",
   "execution_count": 21,
   "id": "3c6979d0",
   "metadata": {},
   "outputs": [
    {
     "name": "stdout",
     "output_type": "stream",
     "text": [
      "Empty DataFrame\n",
      "Columns: [SilverPrice, GoldPrice]\n",
      "Index: []\n"
     ]
    }
   ],
   "source": [
    "print(corr)"
   ]
  },
  {
   "cell_type": "code",
   "execution_count": 26,
   "id": "5ec0425e",
   "metadata": {},
   "outputs": [],
   "source": [
    "corr = df[130:142]"
   ]
  },
  {
   "cell_type": "code",
   "execution_count": 27,
   "id": "36f2ae43",
   "metadata": {},
   "outputs": [
    {
     "name": "stdout",
     "output_type": "stream",
     "text": [
      "<class 'pandas.core.frame.DataFrame'>\n",
      "RangeIndex: 12 entries, 130 to 141\n",
      "Data columns (total 3 columns):\n",
      " #   Column       Non-Null Count  Dtype  \n",
      "---  ------       --------------  -----  \n",
      " 0   Month        12 non-null     object \n",
      " 1   SilverPrice  12 non-null     float64\n",
      " 2   GoldPrice    12 non-null     float64\n",
      "dtypes: float64(2), object(1)\n",
      "memory usage: 420.0+ bytes\n"
     ]
    }
   ],
   "source": [
    "corr.info()"
   ]
  },
  {
   "cell_type": "code",
   "execution_count": 28,
   "id": "d1ffc452",
   "metadata": {},
   "outputs": [
    {
     "data": {
      "text/plain": [
       "(12, 3)"
      ]
     },
     "execution_count": 28,
     "metadata": {},
     "output_type": "execute_result"
    }
   ],
   "source": [
    "corr.shape"
   ]
  },
  {
   "cell_type": "code",
   "execution_count": 29,
   "id": "8641cc72",
   "metadata": {},
   "outputs": [
    {
     "data": {
      "text/html": [
       "<div>\n",
       "<style scoped>\n",
       "    .dataframe tbody tr th:only-of-type {\n",
       "        vertical-align: middle;\n",
       "    }\n",
       "\n",
       "    .dataframe tbody tr th {\n",
       "        vertical-align: top;\n",
       "    }\n",
       "\n",
       "    .dataframe thead th {\n",
       "        text-align: right;\n",
       "    }\n",
       "</style>\n",
       "<table border=\"1\" class=\"dataframe\">\n",
       "  <thead>\n",
       "    <tr style=\"text-align: right;\">\n",
       "      <th></th>\n",
       "      <th>Month</th>\n",
       "      <th>SilverPrice</th>\n",
       "      <th>GoldPrice</th>\n",
       "    </tr>\n",
       "  </thead>\n",
       "  <tbody>\n",
       "    <tr>\n",
       "      <th>130</th>\n",
       "      <td>Jan-08</td>\n",
       "      <td>632.29</td>\n",
       "      <td>35025.78</td>\n",
       "    </tr>\n",
       "    <tr>\n",
       "      <th>131</th>\n",
       "      <td>Feb-08</td>\n",
       "      <td>701.87</td>\n",
       "      <td>36642.46</td>\n",
       "    </tr>\n",
       "    <tr>\n",
       "      <th>132</th>\n",
       "      <td>Mar-08</td>\n",
       "      <td>775.49</td>\n",
       "      <td>39082.77</td>\n",
       "    </tr>\n",
       "    <tr>\n",
       "      <th>133</th>\n",
       "      <td>Apr-08</td>\n",
       "      <td>700.96</td>\n",
       "      <td>36416.00</td>\n",
       "    </tr>\n",
       "    <tr>\n",
       "      <th>134</th>\n",
       "      <td>May-08</td>\n",
       "      <td>718.20</td>\n",
       "      <td>37435.38</td>\n",
       "    </tr>\n",
       "    <tr>\n",
       "      <th>135</th>\n",
       "      <td>Jun-08</td>\n",
       "      <td>729.63</td>\n",
       "      <td>38087.88</td>\n",
       "    </tr>\n",
       "    <tr>\n",
       "      <th>136</th>\n",
       "      <td>Jul-08</td>\n",
       "      <td>773.80</td>\n",
       "      <td>40256.56</td>\n",
       "    </tr>\n",
       "    <tr>\n",
       "      <th>137</th>\n",
       "      <td>Aug-08</td>\n",
       "      <td>625.97</td>\n",
       "      <td>36026.85</td>\n",
       "    </tr>\n",
       "    <tr>\n",
       "      <th>138</th>\n",
       "      <td>Sep-08</td>\n",
       "      <td>555.58</td>\n",
       "      <td>37815.02</td>\n",
       "    </tr>\n",
       "    <tr>\n",
       "      <th>139</th>\n",
       "      <td>Oct-08</td>\n",
       "      <td>507.20</td>\n",
       "      <td>39235.79</td>\n",
       "    </tr>\n",
       "    <tr>\n",
       "      <th>140</th>\n",
       "      <td>Nov-08</td>\n",
       "      <td>483.55</td>\n",
       "      <td>37284.82</td>\n",
       "    </tr>\n",
       "    <tr>\n",
       "      <th>141</th>\n",
       "      <td>Dec-08</td>\n",
       "      <td>501.82</td>\n",
       "      <td>39696.27</td>\n",
       "    </tr>\n",
       "  </tbody>\n",
       "</table>\n",
       "</div>"
      ],
      "text/plain": [
       "      Month  SilverPrice  GoldPrice\n",
       "130  Jan-08       632.29   35025.78\n",
       "131  Feb-08       701.87   36642.46\n",
       "132  Mar-08       775.49   39082.77\n",
       "133  Apr-08       700.96   36416.00\n",
       "134  May-08       718.20   37435.38\n",
       "135  Jun-08       729.63   38087.88\n",
       "136  Jul-08       773.80   40256.56\n",
       "137  Aug-08       625.97   36026.85\n",
       "138  Sep-08       555.58   37815.02\n",
       "139  Oct-08       507.20   39235.79\n",
       "140  Nov-08       483.55   37284.82\n",
       "141  Dec-08       501.82   39696.27"
      ]
     },
     "execution_count": 29,
     "metadata": {},
     "output_type": "execute_result"
    }
   ],
   "source": [
    "corr.head(12)"
   ]
  },
  {
   "cell_type": "code",
   "execution_count": 30,
   "id": "d6516499",
   "metadata": {},
   "outputs": [],
   "source": [
    "co2=corr.corr()"
   ]
  },
  {
   "cell_type": "code",
   "execution_count": 31,
   "id": "dd61a4ab",
   "metadata": {},
   "outputs": [
    {
     "name": "stdout",
     "output_type": "stream",
     "text": [
      "             SilverPrice  GoldPrice\n",
      "SilverPrice     1.000000   0.009584\n",
      "GoldPrice       0.009584   1.000000\n"
     ]
    }
   ],
   "source": [
    "print(co2)"
   ]
  },
  {
   "cell_type": "code",
   "execution_count": null,
   "id": "b556112e",
   "metadata": {},
   "outputs": [],
   "source": []
  }
 ],
 "metadata": {
  "kernelspec": {
   "display_name": "Python 3 (ipykernel)",
   "language": "python",
   "name": "python3"
  },
  "language_info": {
   "codemirror_mode": {
    "name": "ipython",
    "version": 3
   },
   "file_extension": ".py",
   "mimetype": "text/x-python",
   "name": "python",
   "nbconvert_exporter": "python",
   "pygments_lexer": "ipython3",
   "version": "3.9.13"
  }
 },
 "nbformat": 4,
 "nbformat_minor": 5
}
